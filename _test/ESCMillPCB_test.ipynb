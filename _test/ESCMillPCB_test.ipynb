{
 "cells": [
  {
   "cell_type": "code",
   "execution_count": 1,
   "metadata": {
    "collapsed": true
   },
   "outputs": [],
   "source": [
    "from xml.etree import ElementTree as et"
   ]
  },
  {
   "cell_type": "code",
   "execution_count": 5,
   "metadata": {},
   "outputs": [
    {
     "data": {
      "text/plain": [
       "'eagle'"
      ]
     },
     "execution_count": 5,
     "metadata": {},
     "output_type": "execute_result"
    }
   ],
   "source": [
    "fpath = r\"C:\\Users\\christian\\eclipse-workspace\\ESCMillPCB\\test\\esc_spray_etcher.brd\"\n",
    "xml = et.parse(fpath)\n",
    "xml.getroot().tag"
   ]
  },
  {
   "cell_type": "code",
   "execution_count": 3,
   "metadata": {
    "scrolled": true
   },
   "outputs": [
    {
     "name": "stdout",
     "output_type": "stream",
     "text": [
      "resistor:\n",
      "\tE2,5-5\n",
      "\t\tx:1.27, y:0, drill:0.8128\n",
      "\t\tx:-1.27, y:0, drill:0.8128\n",
      "\tC050-024X044\n",
      "\t\tx:-2.54, y:0, drill:0.8128\n",
      "\t\tx:2.54, y:0, drill:0.8128\n",
      "\t0207/10\n",
      "\t\tx:-5.08, y:0, drill:0.8128\n",
      "\t\tx:5.08, y:0, drill:0.8128\n",
      "diode:\n",
      "\tDO41-10\n",
      "\t\tx:5.08, y:0, drill:1.1176\n",
      "\t\tx:-5.08, y:0, drill:1.1176\n",
      "diode_github:\n",
      "\tTO220ACS\n",
      "\t\tx:-2.54, y:-2.54, drill:1.016\n",
      "\t\tx:2.54, y:-2.54, drill:1.016\n",
      "linear:\n",
      "\tTO220V\n",
      "\t\tx:-2.54, y:-2.54, drill:1.016\n",
      "\t\tx:0, y:-2.54, drill:1.016\n",
      "\t\tx:2.54, y:-2.54, drill:1.016\n",
      "led:\n",
      "\tLED3MM\n",
      "\t\tx:-1.27, y:0, drill:0.8128\n",
      "\t\tx:1.27, y:0, drill:0.8128\n",
      "transistor_fet:\n",
      "\tTO262-H\n",
      "\t\tx:-2.54, y:0, drill:1.016\n",
      "\t\tx:0, y:0, drill:1.016\n",
      "\t\tx:2.54, y:0, drill:1.016\n",
      "con-lstb:\n",
      "\tMA12-1\n",
      "\t\tx:-13.97, y:0, drill:1.016\n",
      "\t\tx:-11.43, y:0, drill:1.016\n",
      "\t\tx:-8.89, y:0, drill:1.016\n",
      "\t\tx:-6.35, y:0, drill:1.016\n",
      "\t\tx:-3.81, y:0, drill:1.016\n",
      "\t\tx:-1.27, y:0, drill:1.016\n",
      "\t\tx:1.27, y:0, drill:1.016\n",
      "\t\tx:3.81, y:0, drill:1.016\n",
      "\t\tx:6.35, y:0, drill:1.016\n",
      "\t\tx:8.89, y:0, drill:1.016\n",
      "\t\tx:11.43, y:0, drill:1.016\n",
      "\t\tx:13.97, y:0, drill:1.016\n",
      "con-ptr500:\n",
      "\tAK500/2-H\n",
      "\t\tx:-2.5146, y:0, drill:1.3208\n",
      "\t\tx:2.5146, y:0, drill:1.3208\n"
     ]
    }
   ],
   "source": [
    "libs = xml.findall(\".//library\")\n",
    "for lib in libs:\n",
    "    print(lib.attrib[\"name\"] + \":\")\n",
    "    pkgs = lib.findall(\".//package\")\n",
    "    for pkg in pkgs:\n",
    "        print(\"\\t\" + pkg.attrib[\"name\"])\n",
    "        pads = pkg.findall(\".//pad\")\n",
    "        for pad in pads:\n",
    "            print(\"\\t\\tx:{}, y:{}, drill:{}\".format(pad.attrib[\"x\"], pad.attrib[\"y\"], pad.attrib[\"drill\"]))"
   ]
  },
  {
   "cell_type": "code",
   "execution_count": 4,
   "metadata": {},
   "outputs": [
    {
     "name": "stdout",
     "output_type": "stream",
     "text": [
      "(95.25,73.66) -> (95.25,68.58)\n"
     ]
    },
    {
     "ename": "KeyError",
     "evalue": "'curve'",
     "output_type": "error",
     "traceback": [
      "\u001b[1;31m---------------------------------------------------------------------------\u001b[0m",
      "\u001b[1;31mKeyError\u001b[0m                                  Traceback (most recent call last)",
      "\u001b[1;32m<ipython-input-4-f00d5af6a222>\u001b[0m in \u001b[0;36m<module>\u001b[1;34m()\u001b[0m\n\u001b[0;32m      3\u001b[0m \u001b[1;32mfor\u001b[0m \u001b[0mmill\u001b[0m \u001b[1;32min\u001b[0m \u001b[0mmillings\u001b[0m\u001b[1;33m:\u001b[0m\u001b[1;33m\u001b[0m\u001b[0m\n\u001b[0;32m      4\u001b[0m     \u001b[0mprint\u001b[0m\u001b[1;33m(\u001b[0m\u001b[1;34m\"({},{}) -> ({},{})\"\u001b[0m\u001b[1;33m.\u001b[0m\u001b[0mformat\u001b[0m\u001b[1;33m(\u001b[0m\u001b[0mmill\u001b[0m\u001b[1;33m.\u001b[0m\u001b[0mattrib\u001b[0m\u001b[1;33m[\u001b[0m\u001b[1;34m\"x1\"\u001b[0m\u001b[1;33m]\u001b[0m\u001b[1;33m,\u001b[0m\u001b[0mmill\u001b[0m\u001b[1;33m.\u001b[0m\u001b[0mattrib\u001b[0m\u001b[1;33m[\u001b[0m\u001b[1;34m\"y1\"\u001b[0m\u001b[1;33m]\u001b[0m\u001b[1;33m,\u001b[0m\u001b[0mmill\u001b[0m\u001b[1;33m.\u001b[0m\u001b[0mattrib\u001b[0m\u001b[1;33m[\u001b[0m\u001b[1;34m\"x2\"\u001b[0m\u001b[1;33m]\u001b[0m\u001b[1;33m,\u001b[0m\u001b[0mmill\u001b[0m\u001b[1;33m.\u001b[0m\u001b[0mattrib\u001b[0m\u001b[1;33m[\u001b[0m\u001b[1;34m\"y2\"\u001b[0m\u001b[1;33m]\u001b[0m\u001b[1;33m)\u001b[0m\u001b[1;33m)\u001b[0m\u001b[1;33m\u001b[0m\u001b[0m\n\u001b[1;32m----> 5\u001b[1;33m     \u001b[0mprint\u001b[0m\u001b[1;33m(\u001b[0m\u001b[0mmill\u001b[0m\u001b[1;33m.\u001b[0m\u001b[0mattrib\u001b[0m\u001b[1;33m[\u001b[0m\u001b[1;34m\"curve\"\u001b[0m\u001b[1;33m]\u001b[0m\u001b[1;33m)\u001b[0m\u001b[1;33m\u001b[0m\u001b[0m\n\u001b[0m",
      "\u001b[1;31mKeyError\u001b[0m: 'curve'"
     ]
    }
   ],
   "source": [
    "plain = xml.find(\".//plain\")\n",
    "millings = plain.findall('.//wire[@layer=\"46\"]')\n",
    "for mill in millings:\n",
    "    print(\"({},{}) -> ({},{})\".format(mill.attrib[\"x1\"],mill.attrib[\"y1\"],mill.attrib[\"x2\"],mill.attrib[\"y2\"]))\n",
    "    print(mill.attrib[\"curve\"])"
   ]
  },
  {
   "cell_type": "code",
   "execution_count": 5,
   "metadata": {
    "collapsed": true
   },
   "outputs": [],
   "source": [
    "import numpy as np"
   ]
  },
  {
   "cell_type": "code",
   "execution_count": 6,
   "metadata": {},
   "outputs": [
    {
     "data": {
      "text/plain": [
       "array([[1, 1],\n",
       "       [2, 2],\n",
       "       [3, 3],\n",
       "       [4, 4]])"
      ]
     },
     "execution_count": 6,
     "metadata": {},
     "output_type": "execute_result"
    }
   ],
   "source": [
    "test = np.array([[1,1],[2,2],[3,3],[4,4]])\n",
    "test"
   ]
  },
  {
   "cell_type": "code",
   "execution_count": 7,
   "metadata": {},
   "outputs": [
    {
     "name": "stdout",
     "output_type": "stream",
     "text": [
      "[1 1]\n",
      "[2 2]\n",
      "[3 3]\n",
      "[4 4]\n"
     ]
    }
   ],
   "source": [
    "for d in test:\n",
    "    print(d)"
   ]
  },
  {
   "cell_type": "code",
   "execution_count": 8,
   "metadata": {},
   "outputs": [
    {
     "data": {
      "text/plain": [
       "2.8284271247461903"
      ]
     },
     "execution_count": 8,
     "metadata": {},
     "output_type": "execute_result"
    }
   ],
   "source": [
    "a = np.array([1,1])\n",
    "b = np.array([3,3])\n",
    "np.sqrt(np.sum((a-b)**2))"
   ]
  },
  {
   "cell_type": "code",
   "execution_count": 9,
   "metadata": {
    "collapsed": true
   },
   "outputs": [],
   "source": [
    "import networkx as nx\n",
    "import matplotlib.pyplot as plt\n",
    "%matplotlib inline"
   ]
  },
  {
   "cell_type": "code",
   "execution_count": 10,
   "metadata": {
    "collapsed": true
   },
   "outputs": [],
   "source": [
    "g = nx.Graph()\n",
    "g.add_nodes_from([0,1,2,3,4])\n",
    "g.add_edges_from([[0,1,{\"weight\":5}], [0,2,{\"weight\":6}], [1,2,{\"weight\":7}], [1,3,{\"weight\":8}], [2,4,{\"weight\":9}]])"
   ]
  },
  {
   "cell_type": "code",
   "execution_count": 11,
   "metadata": {},
   "outputs": [
    {
     "data": {
      "text/plain": [
       "[(0, 1), (0, 2)]"
      ]
     },
     "execution_count": 11,
     "metadata": {},
     "output_type": "execute_result"
    }
   ],
   "source": [
    "g.edges(0)"
   ]
  },
  {
   "cell_type": "code",
   "execution_count": 12,
   "metadata": {},
   "outputs": [
    {
     "data": {
      "text/plain": [
       "[(0, 1), 5]"
      ]
     },
     "execution_count": 12,
     "metadata": {},
     "output_type": "execute_result"
    }
   ],
   "source": [
    "ws = [ [key, val] for key, val in nx.get_edge_attributes(g, \"weight\").items() ]\n",
    "ws\n",
    "min(ws)"
   ]
  },
  {
   "cell_type": "code",
   "execution_count": 13,
   "metadata": {},
   "outputs": [
    {
     "name": "stdout",
     "output_type": "stream",
     "text": [
      "[(0, 1), (0, 2)]\n",
      "[(5, (0, 1)), (6, (0, 2))]\n"
     ]
    }
   ],
   "source": [
    "edges = g.edges(0)\n",
    "print(edges)\n",
    "ws = [(e[2][\"weight\"], (e[0], e[1])) for i,e in enumerate(g.edges(0, data=True))]\n",
    "print(ws)"
   ]
  },
  {
   "cell_type": "code",
   "execution_count": 14,
   "metadata": {},
   "outputs": [
    {
     "name": "stdout",
     "output_type": "stream",
     "text": [
      "(5, (0, 1))\n",
      "[(0, 2)]\n"
     ]
    }
   ],
   "source": [
    "m = min(ws)\n",
    "print(m)\n",
    "edges.remove(m[1])\n",
    "print(edges)"
   ]
  },
  {
   "cell_type": "code",
   "execution_count": 15,
   "metadata": {},
   "outputs": [
    {
     "name": "stdout",
     "output_type": "stream",
     "text": [
      "[(5, (0, 1)), (6, (0, 2))]\n"
     ]
    }
   ],
   "source": [
    "edges = g.edges(0)\n",
    "we = [(g.get_edge_data(*edge)[\"weight\"], edge) for edge in edges]\n",
    "print(we)"
   ]
  },
  {
   "cell_type": "code",
   "execution_count": 16,
   "metadata": {},
   "outputs": [
    {
     "data": {
      "text/plain": [
       "[(0, 1), (0, 2), (1, 2), (1, 3), (2, 4)]"
      ]
     },
     "execution_count": 16,
     "metadata": {},
     "output_type": "execute_result"
    }
   ],
   "source": [
    "g.edges()"
   ]
  },
  {
   "cell_type": "code",
   "execution_count": 17,
   "metadata": {},
   "outputs": [
    {
     "data": {
      "text/plain": [
       "[(3, 1)]"
      ]
     },
     "execution_count": 17,
     "metadata": {},
     "output_type": "execute_result"
    }
   ],
   "source": [
    "g.edges(3)"
   ]
  },
  {
   "cell_type": "code",
   "execution_count": 18,
   "metadata": {},
   "outputs": [
    {
     "data": {
      "text/plain": [
       "5"
      ]
     },
     "execution_count": 18,
     "metadata": {},
     "output_type": "execute_result"
    }
   ],
   "source": [
    "len(g)"
   ]
  },
  {
   "cell_type": "code",
   "execution_count": 25,
   "metadata": {},
   "outputs": [
    {
     "name": "stdout",
     "output_type": "stream",
     "text": [
      "None\n"
     ]
    }
   ],
   "source": [
    "print(np.random.shuffle(g.nodes()))"
   ]
  },
  {
   "cell_type": "code",
   "execution_count": 28,
   "metadata": {},
   "outputs": [
    {
     "data": {
      "text/plain": [
       "[2, 1, 3, 0, 4]"
      ]
     },
     "execution_count": 28,
     "metadata": {},
     "output_type": "execute_result"
    }
   ],
   "source": [
    "nodes = g.nodes()\n",
    "np.random.shuffle(nodes)\n",
    "nodes"
   ]
  },
  {
   "cell_type": "code",
   "execution_count": 29,
   "metadata": {},
   "outputs": [
    {
     "data": {
      "text/plain": [
       "[(0, 1), (0, 2), (1, 2), (1, 3), (2, 4)]"
      ]
     },
     "execution_count": 29,
     "metadata": {},
     "output_type": "execute_result"
    }
   ],
   "source": [
    "g.edges()"
   ]
  },
  {
   "cell_type": "code",
   "execution_count": null,
   "metadata": {
    "collapsed": true
   },
   "outputs": [],
   "source": []
  }
 ],
 "metadata": {
  "kernelspec": {
   "display_name": "Python 3",
   "language": "python",
   "name": "python3"
  },
  "language_info": {
   "codemirror_mode": {
    "name": "ipython",
    "version": 3
   },
   "file_extension": ".py",
   "mimetype": "text/x-python",
   "name": "python",
   "nbconvert_exporter": "python",
   "pygments_lexer": "ipython3",
   "version": "3.6.2"
  }
 },
 "nbformat": 4,
 "nbformat_minor": 2
}
