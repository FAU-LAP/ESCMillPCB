{
 "cells": [
  {
   "cell_type": "code",
   "execution_count": 1,
   "metadata": {},
   "outputs": [],
   "source": [
    "import datetime as dt\n",
    "import numpy as np\n",
    "import matplotlib.pyplot as plt\n",
    "import matplotlib.dates as mdates"
   ]
  },
  {
   "cell_type": "code",
   "execution_count": 3,
   "metadata": {},
   "outputs": [
    {
     "name": "stderr",
     "output_type": "stream",
     "text": [
      "C:\\ProgramData\\Anaconda3\\lib\\site-packages\\matplotlib\\figure.py:403: UserWarning: matplotlib is currently using a non-GUI backend, so cannot show the figure\n",
      "  \"matplotlib is currently using a non-GUI backend, \"\n"
     ]
    }
   ],
   "source": [
    "# erzeuge Liste aus datetime Objekten von jetzt bis jetzt+1h in 10s Schritten\n",
    "now = dt.datetime.now()\n",
    "dates = [now+dt.timedelta(seconds=t) for t in range(0, 3600, 10)]\n",
    "# erzeuge Zufallswerte als Dummy-Daten\n",
    "data = np.random.rand(len(dates))\n",
    "# erzeuge Plot-Objekt\n",
    "fig, ax = plt.subplots()\n",
    "# plotte Liste aus datetime Objekten und Zufallsdaten\n",
    "ax.plot(dates, data)\n",
    "# setze große Achsenmarkierungen auf alle 10 Minuten\n",
    "ax.xaxis.set_major_locator(mdates.MinuteLocator(interval=10))\n",
    "# setze kleine Achsenmarkierungen auf alle Minute\n",
    "ax.xaxis.set_minor_locator(mdates.MinuteLocator())\n",
    "# setze Achsenbeschriftungsformatierung auf Tag.Monat.Jahr Stunde:Minute:Sekunde\n",
    "ax.xaxis.set_major_formatter(mdates.DateFormatter('%d.%m.%Y %H:%M:%S'))\n",
    "# zeichne Gitternetz\n",
    "ax.grid(True)\n",
    "# Autoformatierung (schräge Achsenbeschriftung)\n",
    "fig.autofmt_xdate()\n",
    "\n",
    "# auskommentieren: plotte nur Teilausschnitt jetzt+10min bis jetzt+40min aus den Daten\n",
    "#anfang = dt.datetime.now()+dt.timedelta(minutes=10)\n",
    "#ende = dt.datetime.now()+dt.timedelta(minutes=40)\n",
    "#ax.set_xlim(anfang, ende)\n",
    "\n",
    "# Plot anzeigen\n",
    "fig.show()"
   ]
  },
  {
   "cell_type": "code",
   "execution_count": 22,
   "metadata": {},
   "outputs": [],
   "source": []
  },
  {
   "cell_type": "code",
   "execution_count": null,
   "metadata": {
    "collapsed": true
   },
   "outputs": [],
   "source": []
  }
 ],
 "metadata": {
  "kernelspec": {
   "display_name": "Python 3",
   "language": "python",
   "name": "python3"
  },
  "language_info": {
   "codemirror_mode": {
    "name": "ipython",
    "version": 3
   },
   "file_extension": ".py",
   "mimetype": "text/x-python",
   "name": "python",
   "nbconvert_exporter": "python",
   "pygments_lexer": "ipython3",
   "version": "3.6.2"
  }
 },
 "nbformat": 4,
 "nbformat_minor": 2
}
